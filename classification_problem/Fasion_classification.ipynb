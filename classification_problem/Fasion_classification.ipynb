{
 "cells": [
  {
   "cell_type": "markdown",
   "metadata": {},
   "source": [
    "# Train fashion image classification\n"
   ]
  },
  {
   "cell_type": "code",
   "execution_count": 22,
   "metadata": {},
   "outputs": [],
   "source": [
    "from keras.datasets import fashion_mnist\n",
    "import matplotlib.pyplot as plt \n",
    "import tensorflow as tf\n",
    "import numpy as np "
   ]
  },
  {
   "cell_type": "code",
   "execution_count": 23,
   "metadata": {},
   "outputs": [
    {
     "data": {
      "text/plain": [
       "(60000,)"
      ]
     },
     "execution_count": 23,
     "metadata": {},
     "output_type": "execute_result"
    }
   ],
   "source": [
    "(x_train,y_train),(x_test, y_test) = fashion_mnist.load_data()\n",
    "\n",
    "\n",
    "y_train.shape\n"
   ]
  },
  {
   "cell_type": "code",
   "execution_count": 24,
   "metadata": {},
   "outputs": [
    {
     "data": {
      "text/plain": [
       "(10000,)"
      ]
     },
     "execution_count": 24,
     "metadata": {},
     "output_type": "execute_result"
    }
   ],
   "source": [
    "#Normolize\n",
    "x_train, x_test = x_train / 255.0, x_test / 255.0\n",
    "y_test.shape\n"
   ]
  },
  {
   "cell_type": "code",
   "execution_count": 25,
   "metadata": {},
   "outputs": [
    {
     "data": {
      "image/png": "[encoded data removed]",
      "text/plain": [
       "<Figure size 432x288 with 1 Axes>"
      ]
     },
     "metadata": {
      "needs_background": "light"
     },
     "output_type": "display_data"
    },
    {
     "name": "stdout",
     "output_type": "stream",
     "text": [
      "label: 9\n"
     ]
    }
   ],
   "source": [
    "i = 0\n",
    "image_1 = x_train[i]\n",
    "plt.imshow(image_1, cmap=plt.cm.binary)\n",
    "plt.show()\n",
    "print('label:',y_train[i])"
   ]
  },
  {
   "cell_type": "code",
   "execution_count": 26,
   "metadata": {},
   "outputs": [
    {
     "data": {
      "text/plain": [
       "array([9, 0, 0, ..., 3, 0, 5], dtype=uint8)"
      ]
     },
     "execution_count": 26,
     "metadata": {},
     "output_type": "execute_result"
    }
   ],
   "source": [
    "y_train "
   ]
  },
  {
   "cell_type": "markdown",
   "metadata": {},
   "source": [
    "<h2>Prepare dataset</h2>"
   ]
  },
  {
   "cell_type": "code",
   "execution_count": 27,
   "metadata": {},
   "outputs": [],
   "source": [
    "# #caltegorical encoding\n",
    "# def to_one_hot(labels, dimension=46):\n",
    "#     results = np.zeros((len(labels), dimension))\n",
    "#     for i, label in enumerate(labels):\n",
    "#         results[i, label] = 1.\n",
    "#     return results\n",
    "\n",
    "# one_hot_train_label = to_one_hot(train_label)\n",
    "# one_hot_test_label  = to_one_hot(test_label)\n",
    "#encode label \n",
    "#from  keras.utils import to_categorical\n",
    "#y_train = to_categorical(y_train)\n",
    "#y_test  = to_categorical(y_test)\n",
    "# y_train = np.asarray(y_train).astype('float32')\n",
    "# y_test  = np.asarray(y_test).astype('float32')\n",
    "\n",
    "\n",
    "#validation \n",
    "# x_val = x_train[:10000]  #100000 for test \n",
    "# partial_x_train = x_train[10000:] #50000 for train \n",
    "\n",
    "# y_val = y_train[:10000]\n",
    "# partial_y_train = y_train[10000:]\n",
    "\n",
    "# print('partial_x_train[shape]',partial_x_train.shape)\n",
    "# print('x_val[shape]',x_val.shape)\n",
    "# print('-------------------------------------')\n",
    "# print('partial_y_train[shape]',partial_y_train.shape)\n",
    "# print('y_val[shape]',y_val.shape)\n",
    "\n"
   ]
  },
  {
   "cell_type": "markdown",
   "metadata": {},
   "source": [
    "<h2>Build Model</h2>"
   ]
  },
  {
   "cell_type": "code",
   "execution_count": 28,
   "metadata": {},
   "outputs": [
    {
     "name": "stdout",
     "output_type": "stream",
     "text": [
      "_________________________________________________________________\n",
      "Layer (type)                 Output Shape              Param #   \n",
      "=================================================================\n",
      "flatten_5 (Flatten)          (None, 784)               0         \n",
      "_________________________________________________________________\n",
      "dense_9 (Dense)              (None, 128)               100480    \n",
      "_________________________________________________________________\n",
      "dense_10 (Dense)             (None, 10)                1290      \n",
      "=================================================================\n",
      "Total params: 101,770\n",
      "Trainable params: 101,770\n",
      "Non-trainable params: 0\n",
      "_________________________________________________________________\n"
     ]
    }
   ],
   "source": [
    "from keras.layers import Dense,Flatten\n",
    "from keras.models import Sequential\n",
    "\n",
    "model = Sequential()\n",
    "model.add(Flatten(input_shape=(28,28)))\n",
    "model.add(Dense(128, activation='relu'))\n",
    "model.add(Dense(10, activation='softmax')) #output class 0-9 => 10 class \n",
    "#compile model \n",
    "model.compile(optimizer='rmsprop',\n",
    "             loss='sparse_categorical_crossentropy',   #sparse_categorical_crossentropy\n",
    "             metrics=['accuracy'])\n",
    "#summary model \n",
    "model.summary()\n",
    "\n",
    "# model = tf.keras.models.Sequential([\n",
    "#   tf.keras.layers.Flatten(input_shape=(28, 28)),\n",
    "#   tf.keras.layers.Dense(128, activation='relu'),\n",
    "#   tf.keras.layers.Dropout(0.2),\n",
    "#   tf.keras.layers.Dense(10, activation='softmax')\n",
    "# ])\n",
    "\n",
    "# model.compile(optimizer='adam',\n",
    "#               loss='sparse_categorical_crossentropy',\n",
    "#               metrics=['accuracy'])"
   ]
  },
  {
   "cell_type": "code",
   "execution_count": 29,
   "metadata": {},
   "outputs": [
    {
     "name": "stdout",
     "output_type": "stream",
     "text": [
      "shape x_train (60000, 28, 28)\n",
      "shape x_test (10000, 28, 28)\n",
      "shape y_train (60000,)\n",
      "shape y_test (10000,)\n"
     ]
    }
   ],
   "source": [
    "print('shape x_train',x_train.shape)\n",
    "print('shape x_test',x_test.shape)\n",
    "\n",
    "print('shape y_train',y_train.shape)\n",
    "print('shape y_test',y_test.shape)"
   ]
  },
  {
   "cell_type": "code",
   "execution_count": 30,
   "metadata": {},
   "outputs": [
    {
     "name": "stdout",
     "output_type": "stream",
     "text": [
      "Epoch 1/20\n",
      "60000/60000 [==============================] - 6s 101us/step - loss: 0.5023 - acc: 0.8225\n",
      "Epoch 2/20\n",
      "60000/60000 [==============================] - 6s 95us/step - loss: 0.3713 - acc: 0.8668\n",
      "Epoch 3/20\n",
      "60000/60000 [==============================] - 6s 96us/step - loss: 0.3429 - acc: 0.8774\n",
      "Epoch 4/20\n",
      "60000/60000 [==============================] - 6s 95us/step - loss: 0.3266 - acc: 0.8857\n",
      "Epoch 5/20\n",
      "60000/60000 [==============================] - 6s 96us/step - loss: 0.3133 - acc: 0.8905\n",
      "Epoch 6/20\n",
      "60000/60000 [==============================] - 6s 96us/step - loss: 0.3058 - acc: 0.8931\n",
      "Epoch 7/20\n",
      "60000/60000 [==============================] - 6s 97us/step - loss: 0.2974 - acc: 0.8950\n",
      "Epoch 8/20\n",
      "60000/60000 [==============================] - 6s 96us/step - loss: 0.2924 - acc: 0.8982\n",
      "Epoch 9/20\n",
      "60000/60000 [==============================] - 6s 107us/step - loss: 0.2876 - acc: 0.9010\n",
      "Epoch 10/20\n",
      "60000/60000 [==============================] - 6s 105us/step - loss: 0.2829 - acc: 0.9037\n",
      "Epoch 11/20\n",
      "60000/60000 [==============================] - 6s 102us/step - loss: 0.2759 - acc: 0.9057\n",
      "Epoch 12/20\n",
      "60000/60000 [==============================] - 6s 105us/step - loss: 0.2691 - acc: 0.9084\n",
      "Epoch 13/20\n",
      "60000/60000 [==============================] - 6s 107us/step - loss: 0.2650 - acc: 0.9120\n",
      "Epoch 14/20\n",
      "60000/60000 [==============================] - 7s 109us/step - loss: 0.2615 - acc: 0.9122\n",
      "Epoch 15/20\n",
      "60000/60000 [==============================] - 7s 111us/step - loss: 0.2587 - acc: 0.9133\n",
      "Epoch 16/20\n",
      "60000/60000 [==============================] - 7s 118us/step - loss: 0.2541 - acc: 0.9154\n",
      "Epoch 17/20\n",
      "60000/60000 [==============================] - 7s 117us/step - loss: 0.2520 - acc: 0.9177\n",
      "Epoch 18/20\n",
      "60000/60000 [==============================] - 7s 119us/step - loss: 0.2464 - acc: 0.9187\n",
      "Epoch 19/20\n",
      "60000/60000 [==============================] - 7s 119us/step - loss: 0.2434 - acc: 0.9201\n",
      "Epoch 20/20\n",
      "60000/60000 [==============================] - 7s 115us/step - loss: 0.2407 - acc: 0.9223\n"
     ]
    },
    {
     "data": {
      "text/plain": [
       "<keras.callbacks.History at 0x7f07386090f0>"
      ]
     },
     "execution_count": 30,
     "metadata": {},
     "output_type": "execute_result"
    }
   ],
   "source": [
    "#Train model \n",
    "model.fit(x_train,y_train,epochs=20)\n",
    "#history = model.fit(partial_x_train,partial_y_train,epochs=20,batch_size=128,validation_data=(x_val, y_val))"
   ]
  },
  {
   "cell_type": "code",
   "execution_count": null,
   "metadata": {},
   "outputs": [],
   "source": [
    "model.evaluate(x_test,y_test)\n",
    "#Evaluate ข้อมูลนี้ การไม่ใส่ drop out ให้ผลลัพธ์ที่ดีกว่า"
   ]
  },
  {
   "cell_type": "markdown",
   "metadata": {},
   "source": [
    "<h2>Conculsion<h2>"
   ]
  },
  {
   "cell_type": "markdown",
   "metadata": {},
   "source": [
    "<h2>ค้นพบการแก้ปัญหาเรื่อง dimension ด้วยการใช้ layer Flatten มาช่วยปรับ Dimension ของ input\n",
    "ไม่ใช่แค่นั้นเรื่อง  matrix  ี่จะเกิดขึ้น แต่ละ output เกี่ยวกับ fucntion ต่างๆ loss layers ใช่หมดเลย\n",
    "\n",
    "sparse_categorical_crossentropy = [1,2,3,4]\n",
    "categorical_crossentropy = [[0,0,1],[0,2,3]]</h2>"
   ]
  },
  {
   "cell_type": "code",
   "execution_count": null,
   "metadata": {},
   "outputs": [],
   "source": [
    "model.predict_classes(x_test)\n"
   ]
  },
  {
   "cell_type": "code",
   "execution_count": null,
   "metadata": {},
   "outputs": [],
   "source": [
    "image_1 = x_test[0]\n",
    "plt.imshow(image_1, cmap=plt.cm.binary)\n",
    "plt.show()"
   ]
  },
  {
   "cell_type": "code",
   "execution_count": null,
   "metadata": {},
   "outputs": [],
   "source": []
  }
 ],
 "metadata": {
  "kernelspec": {
   "display_name": "Python 3",
   "language": "python",
   "name": "python3"
  },
  "language_info": {
   "codemirror_mode": {
    "name": "ipython",
    "version": 3
   },
   "file_extension": ".py",
   "mimetype": "text/x-python",
   "name": "python",
   "nbconvert_exporter": "python",
   "pygments_lexer": "ipython3",
   "version": "3.6.7"
  }
 },
 "nbformat": 4,
 "nbformat_minor": 2
}
